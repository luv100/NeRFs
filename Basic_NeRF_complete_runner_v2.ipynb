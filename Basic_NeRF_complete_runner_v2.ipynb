{
 "cells": [
  {
   "cell_type": "code",
   "execution_count": 3,
   "id": "dcc3934c-cf1b-4353-9c5c-5a75555ee799",
   "metadata": {
    "tags": []
   },
   "outputs": [],
   "source": []
  },
  {
   "cell_type": "code",
   "execution_count": null,
   "id": "580104ee-2e2a-4401-9fac-efe5a03df71d",
   "metadata": {},
   "outputs": [],
   "source": []
  },
  {
   "cell_type": "code",
   "execution_count": 14,
   "id": "e5a6c791-684d-40c0-a1ca-a21ecaade859",
   "metadata": {
    "tags": []
   },
   "outputs": [],
   "source": [
    "import torch\n",
    "import numpy as np\n",
    "import os\n",
    "import imageio\n",
    "import matplotlib.pyplot as plt\n",
    "from torch.utils.data import DataLoader\n",
    "import torch.nn as nn\n",
    "# from dataset import get_rays"
   ]
  },
  {
   "cell_type": "markdown",
   "id": "595ffe21-5003-431f-b0fe-24ebbbd31324",
   "metadata": {},
   "source": [
    "## Getting Direction and Origin, Also Camera to World Coordinates"
   ]
  },
  {
   "cell_type": "code",
   "execution_count": 15,
   "id": "29500c02-af30-436e-975b-fff66e3b3c07",
   "metadata": {
    "tags": []
   },
   "outputs": [],
   "source": [
    "# 1. make a mesh grid (u,v). say camera is sitting along the z-axis at distance f. \n",
    "# from that calculate the direction. say some pixel is at position u,v and\n",
    "# grid corrdinate origin is at (e/2, h/2). then the distance is terms of \n",
    "# x,y,z coordinate would be (u-w/2), (v-h/2), f . then invert the (v-h/2).\n",
    "# now what we this is according to the assumed camera position. but we\n",
    "# have the pose of the camera, so we would have to multiply by rotation\n",
    "# matrix to consider the camera pose. then once we rotate, now we can\n",
    "# divide by the magnitude of the distance we have calculated earlier \n",
    "# to get the unit vector and that unt vector gives us the direction? or rays_d ?\n",
    "\n",
    "# Yes, the understanding above is correct:\n",
    "    \n",
    "# 1. create a mesh grid(um,v): This grid represents the pixel coordinates in the image\n",
    "# 2. calculate direction in camera's local space: The camera's local space assumes the camera is positioned\n",
    "# along the negative z-axis at a distance of f (focal length).\n",
    "\n",
    "# from that point (3d coordinate of point on image plane would be given as: (u-(w/2), -(v-h/2), -f). \n",
    "                 \n",
    "# 3. rotate to consider camera pose. since the camera may not be aligned with the negative z-axis in the world space. \n",
    "#                  we need to consider its actual oritentation. \n",
    "#                  This is done by multiplying the local directions by the rotation matrix from the pose\n",
    "#                  (camera-to-world matri)\n",
    "                 \n",
    "# 4. nromalize to get the unit vectors: the world-space coordinates are nrormalized to have unit length, turning\n",
    "#                  them into unit vectors that represents the direction of the rays. these are rays_d\n",
    "                 "
   ]
  },
  {
   "cell_type": "code",
   "execution_count": 16,
   "id": "c6990482-042c-466f-b75c-66396d1a1bd6",
   "metadata": {
    "tags": []
   },
   "outputs": [],
   "source": [
    "import torch\n",
    "import numpy as np\n",
    "import os\n",
    "import imageio\n",
    "import matplotlib.pyplot as plt\n",
    "from torch.utils.data import DataLoader\n",
    "\n",
    "def get_rays(datapath, mode='train'):\n",
    "    \n",
    "    pose_file_names = [f for f in os.listdir(datapath + f'/{mode}/pose') if f.endswith('.txt')]\n",
    "    intrisics_file_names = [f for f in os.listdir(datapath + f'/{mode}/intrinsics') if f.endswith('.txt')]\n",
    "    img_file_names = [f for f in os.listdir(datapath + '/imgs') if mode in f]\n",
    "\n",
    "    assert len(pose_file_names) == len(intrisics_file_names)\n",
    "    assert len(img_file_names) == len(pose_file_names)\n",
    "    \n",
    "    # Read\n",
    "    N = len(pose_file_names)\n",
    "    poses = np.zeros((N, 4, 4))\n",
    "    intrinsics = np.zeros((N, 4, 4))\n",
    "    \n",
    "    images = []\n",
    "    \n",
    "    for i in range(N):\n",
    "        name = pose_file_names[i]\n",
    "        \n",
    "        pose = open(datapath + f'/{mode}/pose/' + name).read().split()\n",
    "        poses[i] = np.array(pose, dtype=float).reshape(4, 4)\n",
    "        \n",
    "        intrinsic = open(datapath + f'/{mode}/intrinsics/' + name).read().split()\n",
    "        intrinsics[i] = np.array(intrinsic, dtype=float).reshape(4, 4)\n",
    "        \n",
    "        # Read images\n",
    "        img = imageio.imread(datapath + '/imgs/' + name.replace('txt', 'png')) / 255.\n",
    "        images.append(img[None, ...])\n",
    "    # print(\"images.shape before concatenation\", images.shape)\n",
    "    \n",
    "    # 90 images with shape (1,400,400, 4)\n",
    "    print(\"images[0].shape, len(images)\",images[0].shape, len(images))\n",
    "    images = np.concatenate(images)\n",
    "    print(\"images.shape after concatenation\", images.shape)\n",
    "    \n",
    "    H = images.shape[1]\n",
    "    W = images.shape[2]\n",
    "    \n",
    "    if images.shape[3] == 4: #RGBA -> RGB\n",
    "        images = images[..., :3] * images[..., -1:] + (1 - images[..., -1:])\n",
    "\n",
    "    rays_o = np.zeros((N, H*W, 3))\n",
    "    rays_d = np.zeros((N, H*W, 3))\n",
    "    target_px_values = images.reshape((N, H*W, 3))\n",
    "    \n",
    "    for i in range(N):\n",
    "        \n",
    "        c2w = poses[i]\n",
    "        f = intrinsics[i, 0, 0]\n",
    "\n",
    "        u = np.arange(W)\n",
    "        v = np.arange(H)\n",
    "        u, v = np.meshgrid(u, v)\n",
    "        dirs = np.stack((u - W / 2, -(v - H / 2), - np.ones_like(u) * f), axis=-1)\n",
    "        dirs = (c2w[:3, :3] @ dirs[..., None]).squeeze(-1)\n",
    "        dirs = dirs / np.linalg.norm(dirs, axis=-1, keepdims=True)\n",
    "        \n",
    "        rays_d[i] = dirs.reshape(-1, 3)\n",
    "        rays_o[i] += c2w[:3, 3]\n",
    "\n",
    "    print(\"rays_o.shape\", rays_o.shape)\n",
    "    print(\"rays_d.shape\", rays_d.shape)\n",
    "    print(\"target_px_values.shape\",target_px_values.shape)\n",
    "    return rays_o, rays_d, target_px_values\n"
   ]
  },
  {
   "cell_type": "code",
   "execution_count": 17,
   "id": "d3dbaab7-f5f5-4d8e-b1e0-8af0522703fa",
   "metadata": {
    "tags": []
   },
   "outputs": [
    {
     "name": "stderr",
     "output_type": "stream",
     "text": [
      "/tmp/ipykernel_168301/1323450238.py:34: DeprecationWarning: Starting with ImageIO v3 the behavior of this function will switch to that of iio.v3.imread. To keep the current behavior (and make this warning disappear) use `import imageio.v2 as imageio` or call `imageio.v2.imread` directly.\n",
      "  img = imageio.imread(datapath + '/imgs/' + name.replace('txt', 'png')) / 255.\n"
     ]
    },
    {
     "name": "stdout",
     "output_type": "stream",
     "text": [
      "images[0].shape, len(images) (1, 400, 400, 4) 90\n",
      "images.shape after concatenation (90, 400, 400, 4)\n",
      "rays_o.shape (90, 160000, 3)\n",
      "rays_d.shape (90, 160000, 3)\n",
      "target_px_values.shape (90, 160000, 3)\n"
     ]
    },
    {
     "data": {
      "text/plain": [
       "(array([[[ 7.35889149, -6.92579079,  4.95830917],\n",
       "         [ 7.35889149, -6.92579079,  4.95830917],\n",
       "         [ 7.35889149, -6.92579079,  4.95830917],\n",
       "         ...,\n",
       "         [ 7.35889149, -6.92579079,  4.95830917],\n",
       "         [ 7.35889149, -6.92579079,  4.95830917],\n",
       "         [ 7.35889149, -6.92579079,  4.95830917]],\n",
       " \n",
       "        [[ 0.9987492 ,  0.        ,  9.94999981],\n",
       "         [ 0.9987492 ,  0.        ,  9.94999981],\n",
       "         [ 0.9987492 ,  0.        ,  9.94999981],\n",
       "         ...,\n",
       "         [ 0.9987492 ,  0.        ,  9.94999981],\n",
       "         [ 0.9987492 ,  0.        ,  9.94999981],\n",
       "         [ 0.9987492 ,  0.        ,  9.94999981]],\n",
       " \n",
       "        [[ 1.89063346,  4.04017401,  8.94999981],\n",
       "         [ 1.89063346,  4.04017401,  8.94999981],\n",
       "         [ 1.89063346,  4.04017401,  8.94999981],\n",
       "         ...,\n",
       "         [ 1.89063346,  4.04017401,  8.94999981],\n",
       "         [ 1.89063346,  4.04017401,  8.94999981],\n",
       "         [ 1.89063346,  4.04017401,  8.94999981]],\n",
       " \n",
       "        ...,\n",
       " \n",
       "        [[-4.88392639,  8.71921825,  0.34999999],\n",
       "         [-4.88392639,  8.71921825,  0.34999999],\n",
       "         [-4.88392639,  8.71921825,  0.34999999],\n",
       "         ...,\n",
       "         [-4.88392639,  8.71921825,  0.34999999],\n",
       "         [-4.88392639,  8.71921825,  0.34999999],\n",
       "         [-4.88392639,  8.71921825,  0.34999999]],\n",
       " \n",
       "        [[ 9.49385262, -3.13117504,  0.25      ],\n",
       "         [ 9.49385262, -3.13117504,  0.25      ],\n",
       "         [ 9.49385262, -3.13117504,  0.25      ],\n",
       "         ...,\n",
       "         [ 9.49385262, -3.13117504,  0.25      ],\n",
       "         [ 9.49385262, -3.13117504,  0.25      ],\n",
       "         [ 9.49385262, -3.13117504,  0.25      ]],\n",
       " \n",
       "        [[-3.93227291, -1.62318504,  9.05000019],\n",
       "         [-3.93227291, -1.62318504,  9.05000019],\n",
       "         [-3.93227291, -1.62318504,  9.05000019],\n",
       "         ...,\n",
       "         [-3.93227291, -1.62318504,  9.05000019],\n",
       "         [-3.93227291, -1.62318504,  9.05000019],\n",
       "         [-3.93227291, -1.62318504,  9.05000019]]]),\n",
       " array([[[-0.78556757,  0.53884153, -0.30419303],\n",
       "         [-0.78514865,  0.53943334, -0.3042257 ],\n",
       "         [-0.78472922,  0.54002499, -0.30425822],\n",
       "         ...,\n",
       "         [-0.49114028,  0.66166633, -0.56654999],\n",
       "         [-0.49058462,  0.66212999, -0.56648972],\n",
       "         [-0.49002883,  0.6625932 , -0.56642916]],\n",
       " \n",
       "        [[-0.24370196, -0.14673481, -0.95868569],\n",
       "         [-0.24372814, -0.14601681, -0.95878865],\n",
       "         [-0.24375419, -0.14529859, -0.95889114],\n",
       "         ...,\n",
       "         [ 0.04759063,  0.14459567, -0.9883457 ],\n",
       "         [ 0.04758557,  0.14531419, -0.98824056],\n",
       "         [ 0.04758048,  0.14603249, -0.98813491]],\n",
       " \n",
       "        [[-0.1077067 , -0.57636384, -0.81006419],\n",
       "         [-0.10838286, -0.57611475, -0.81015119],\n",
       "         [-0.1090591 , -0.5758653 , -0.81023778],\n",
       "         ...,\n",
       "         [-0.26058376, -0.21570228, -0.94104656],\n",
       "         [-0.26122077, -0.21536827, -0.94094645],\n",
       "         [-0.2618575 , -0.21503421, -0.94084586]],\n",
       " \n",
       "        ...,\n",
       " \n",
       "        [[ 0.60828424, -0.78571942,  0.11240673],\n",
       "         [ 0.6077094 , -0.78616239,  0.1124188 ],\n",
       "         [ 0.60713412, -0.78660503,  0.11243082],\n",
       "         ...,\n",
       "         [ 0.3493065 , -0.91951248, -0.18022697],\n",
       "         [ 0.34862903, -0.91977331, -0.1802078 ],\n",
       "         [ 0.34795152, -0.9200336 , -0.18018853]],\n",
       " \n",
       "        [[-0.97816399,  0.16809001,  0.12223318],\n",
       "         [-0.97803924,  0.1688049 ,  0.12224631],\n",
       "         [-0.97791394,  0.16951985,  0.12225938],\n",
       "         ...,\n",
       "         [-0.88036342,  0.44260069, -0.17048421],\n",
       "         [-0.8800399 ,  0.44325059, -0.17046607],\n",
       "         [-0.87971599,  0.44390012, -0.17044785]],\n",
       " \n",
       "        [[ 0.45142858,  0.34508735, -0.82287724],\n",
       "         [ 0.45175703,  0.34444617, -0.82296562],\n",
       "         [ 0.45208532,  0.34380467, -0.82305359],\n",
       "         ...,\n",
       "         [ 0.31781662, -0.02524041, -0.94781618],\n",
       "         [ 0.31806284, -0.02591612, -0.94771535],\n",
       "         [ 0.31830884, -0.02659166, -0.94761404]]]),\n",
       " array([[[1., 1., 1.],\n",
       "         [1., 1., 1.],\n",
       "         [1., 1., 1.],\n",
       "         ...,\n",
       "         [1., 1., 1.],\n",
       "         [1., 1., 1.],\n",
       "         [1., 1., 1.]],\n",
       " \n",
       "        [[1., 1., 1.],\n",
       "         [1., 1., 1.],\n",
       "         [1., 1., 1.],\n",
       "         ...,\n",
       "         [1., 1., 1.],\n",
       "         [1., 1., 1.],\n",
       "         [1., 1., 1.]],\n",
       " \n",
       "        [[1., 1., 1.],\n",
       "         [1., 1., 1.],\n",
       "         [1., 1., 1.],\n",
       "         ...,\n",
       "         [1., 1., 1.],\n",
       "         [1., 1., 1.],\n",
       "         [1., 1., 1.]],\n",
       " \n",
       "        ...,\n",
       " \n",
       "        [[1., 1., 1.],\n",
       "         [1., 1., 1.],\n",
       "         [1., 1., 1.],\n",
       "         ...,\n",
       "         [1., 1., 1.],\n",
       "         [1., 1., 1.],\n",
       "         [1., 1., 1.]],\n",
       " \n",
       "        [[1., 1., 1.],\n",
       "         [1., 1., 1.],\n",
       "         [1., 1., 1.],\n",
       "         ...,\n",
       "         [1., 1., 1.],\n",
       "         [1., 1., 1.],\n",
       "         [1., 1., 1.]],\n",
       " \n",
       "        [[1., 1., 1.],\n",
       "         [1., 1., 1.],\n",
       "         [1., 1., 1.],\n",
       "         ...,\n",
       "         [1., 1., 1.],\n",
       "         [1., 1., 1.],\n",
       "         [1., 1., 1.]]]))"
      ]
     },
     "execution_count": 17,
     "metadata": {},
     "output_type": "execute_result"
    }
   ],
   "source": [
    "get_rays('fox')"
   ]
  },
  {
   "cell_type": "code",
   "execution_count": null,
   "id": "94ad3a3d-fc5b-48f0-bd91-989f02eda7d4",
   "metadata": {
    "tags": []
   },
   "outputs": [],
   "source": []
  },
  {
   "cell_type": "code",
   "execution_count": null,
   "id": "e5e18cd5-1b90-4b5f-a02e-8707c2b469eb",
   "metadata": {},
   "outputs": [],
   "source": []
  },
  {
   "cell_type": "markdown",
   "id": "ac08c10c-cb95-40b9-80f3-068dc5430634",
   "metadata": {},
   "source": [
    "## Part where we need to Render"
   ]
  },
  {
   "cell_type": "code",
   "execution_count": 18,
   "id": "47169081-1c22-44c8-9f1f-fcc31ee9205f",
   "metadata": {
    "tags": []
   },
   "outputs": [],
   "source": [
    "import torch\n",
    "\n",
    "def compute_accumulated_transmittance(betas):\n",
    "    accumulated_transmittance = torch.cumprod(betas, 1)     \n",
    "    \n",
    "    # we are concatetating 1 which value of accumualted transmittance at first sample. T(0) = 1\n",
    "    # and then j goes from summation to i-1, so it is [:,:-1]\n",
    "    \n",
    "    return torch.cat((torch.ones(accumulated_transmittance.shape[0], 1, device=accumulated_transmittance.device),\n",
    "                      accumulated_transmittance[:, :-1]), dim=1)\n",
    "\n",
    "def rendering(model, rays_o, rays_d, tn, tf, nb_bins=100, device='cuda', white_bckgr=True):\n",
    "    \n",
    "    t = torch.linspace(tn, tf, nb_bins).to(device) # [nb_bins]\n",
    "    delta = torch.cat((t[1:] - t[:-1], torch.tensor([1e10], device=device)))\n",
    "    \n",
    "    x = rays_o.unsqueeze(1) + t.unsqueeze(0).unsqueeze(-1) * rays_d.unsqueeze(1) # [nb_rays, nb_bins, 3]    \n",
    "    \n",
    "    colors, density = model.intersect(x.reshape(-1, 3), rays_d.expand(x.shape[1], x.shape[0], 3).transpose(0, 1).reshape(-1, 3))\n",
    "    \n",
    "    colors = colors.reshape((x.shape[0], nb_bins, 3)) # [nb_rays, nb_bins, 3]\n",
    "    density = density.reshape((x.shape[0], nb_bins))\n",
    "    \n",
    "    alpha = 1 - torch.exp(- density * delta.unsqueeze(0)) # [nb_rays, nb_bins, 1]\n",
    "        \n",
    "    weights = compute_accumulated_transmittance(1 - alpha) * alpha # [nb_rays, nb_bins]\n",
    "    \n",
    "    if white_bckgr:   # this white background regulairzation is very important, and without it\n",
    "        # results can be very bad. \n",
    "        c = (weights.unsqueeze(-1) * colors).sum(1) # [nb_rays, 3]\n",
    "        weight_sum = weights.sum(-1) # [nb_rays]\n",
    "        return c + 1 - weight_sum.unsqueeze(-1)\n",
    "    else:\n",
    "        c = (weights.unsqueeze(-1) * colors).sum(1) # [nb_rays, 3]\n",
    "    \n",
    "    return c"
   ]
  },
  {
   "cell_type": "code",
   "execution_count": 19,
   "id": "a434e248-4086-4e2d-9e78-367d0d3aaf8e",
   "metadata": {
    "tags": []
   },
   "outputs": [],
   "source": [
    "from tqdm import tqdm\n",
    "\n",
    "def training(mdoel, optimizer, scheduler, tn,tc,nb_bins, nb_epochs, data_loader, device = 'cuda'):\n",
    "    training_loss = []\n",
    "    for epoch in range(nb_epochs):\n",
    "        \n",
    "        for batch in tqdm(data_loader):\n",
    "            \n",
    "            o = batch[:,:3].to(device)\n",
    "            d = batch[:, 3:6].to(device)\n",
    "            \n",
    "            target = batch[:, 6:].to(device)\n",
    "            \n",
    "            prediction = rendering(model, o,d,tn,tf, nb_bins = nb_bins, device = device)\n",
    "            \n",
    "            loss = ((prediction - target)**2).mean()\n",
    "            \n",
    "            optimizer.zero_grad()\n",
    "            loss.backward()\n",
    "            optimizer.step()\n",
    "            training_loss.append(loss.item())\n",
    "            \n",
    "        scheduler.step()\n",
    "        \n",
    "    return training_loss"
   ]
  },
  {
   "cell_type": "code",
   "execution_count": 20,
   "id": "5c7ed34e-4114-424d-8f09-47c3ba987610",
   "metadata": {},
   "outputs": [],
   "source": [
    "class Nerf(nn.Module):\n",
    "    \n",
    "    def __init__(self, Lpos = 10, Ldir = 4, hidden_dim = 256):\n",
    "        \n",
    "        super(Nerf, self).__init__()\n",
    "        \n",
    "        # +3 because of positional encoding plus P as inputs; p are three directions x,y,z so 3 added. Think so.. \n",
    "        # block1, we implemented 5 dimensions.\n",
    "        self.block1 = nn.Sequential(nn.Linear(Lpos*6 + 3, hidden_dim), nn.ReLU(),\n",
    "                                    nn.Linear(hidden_dim, hidden_dim), nn.ReLU(),\n",
    "                                    nn.Linear(hidden_dim, hidden_dim), nn.ReLU(),\n",
    "                                    nn.Linear(hidden_dim, hidden_dim), nn.ReLU(),\n",
    "                                    nn.Linear(hidden_dim, hidden_dim), nn.ReLU())\n",
    "        \n",
    "        # what happens at 6th block.. # plus 1 because of sigma (density)\n",
    "        # also there are d directions\n",
    "        \n",
    "        self.block2 = nn.Sequential(nn.Linear(hidden_dim + Lpos*6 + 3, hidden_dim), nn.ReLU(),\n",
    "                                    nn.Linear(hidden_dim, hidden_dim), nn.ReLU(),\n",
    "                                    nn.Linear(hidden_dim, hidden_dim), nn.ReLU(),\n",
    "                                    nn.Linear(hidden_dim, hidden_dim+1))\n",
    "        \n",
    "        # this Ldir*6 is coming from architecture.. which is addition of direction. +3 is from p. \n",
    "        self.rgb_head= nn.Sequential(nn.Linear(hidden_dim + Ldir *6 + 3, hidden_dim//2), nn.ReLU(),\n",
    "                      nn.Linear(hidden_dim//2, 3), nn.Sigmoid())\n",
    "        \n",
    "        self.Lpos = Lpos\n",
    "        self.Ldir = Ldir\n",
    "\n",
    "    def positional_encoding(self, x, L):\n",
    "        out = [x]\n",
    "        \n",
    "        for j in range(L):\n",
    "                \n",
    "            out.append(torch.sin(2 **j *x))\n",
    "            out.append(torch.cos(2 **j *x))\n",
    "                       \n",
    "        return torch.cat(out, dim = 1)\n",
    "                       \n",
    "\n",
    "               \n",
    "        \n",
    "    def forward(self, xyz, d):\n",
    "                \n",
    "        x_emb = self.positional_encoding(xyz, self.Lpos) # [batch_size, Lpos*6+3]\n",
    "        d_emb = self.positional_encoding(d, self.Ldir) # [batch_size, Ldir*6=4+3]\n",
    "                \n",
    "        h = self.block1(x_emb) #[batch_size, hidden_dim]\n",
    "        h = self.block2(torch.cat((h,x_emb), dim=1)) # [batch_size, hidden_dim +1]\n",
    "        \n",
    "        # get the density back\n",
    "        sigma = h[:, -1]\n",
    "        h = h[:,:-1] # [batch_size, hidden_dim +1]\n",
    "        c = self.rgb_head(torch.cat((h,d_emb), dim=1))\n",
    "        \n",
    "        return c, torch.relu(sigma)\n",
    "                \n",
    "    def intersect(self, x, d):\n",
    "        return self.forward(x, d)\n",
    "        "
   ]
  },
  {
   "cell_type": "code",
   "execution_count": 21,
   "id": "788f4535-ff78-4b05-a936-a099f57ca367",
   "metadata": {
    "tags": []
   },
   "outputs": [
    {
     "name": "stderr",
     "output_type": "stream",
     "text": [
      "/tmp/ipykernel_168301/1323450238.py:34: DeprecationWarning: Starting with ImageIO v3 the behavior of this function will switch to that of iio.v3.imread. To keep the current behavior (and make this warning disappear) use `import imageio.v2 as imageio` or call `imageio.v2.imread` directly.\n",
      "  img = imageio.imread(datapath + '/imgs/' + name.replace('txt', 'png')) / 255.\n"
     ]
    },
    {
     "name": "stdout",
     "output_type": "stream",
     "text": [
      "images[0].shape, len(images) (1, 400, 400, 4) 90\n",
      "images.shape after concatenation (90, 400, 400, 4)\n",
      "rays_o.shape (90, 160000, 3)\n",
      "rays_d.shape (90, 160000, 3)\n",
      "target_px_values.shape (90, 160000, 3)\n",
      "images[0].shape, len(images) (1, 400, 400, 4) 10\n",
      "images.shape after concatenation (10, 400, 400, 4)\n",
      "rays_o.shape (10, 160000, 3)\n",
      "rays_d.shape (10, 160000, 3)\n",
      "target_px_values.shape (10, 160000, 3)\n",
      "test_o.shape, test_d.shape, test_target_px_values.shape (10, 160000, 3) (10, 160000, 3) (10, 160000, 3)\n",
      "images[0].shape, len(images) (1, 400, 400, 4) 10\n",
      "images.shape after concatenation (10, 400, 400, 4)\n",
      "rays_o.shape (10, 160000, 3)\n",
      "rays_d.shape (10, 160000, 3)\n",
      "target_px_values.shape (10, 160000, 3)\n"
     ]
    }
   ],
   "source": [
    "batch_size = 1024\n",
    "o,d, target_px_values = get_rays('fox', mode = 'train')\n",
    "\n",
    "dataloader = DataLoader(torch.cat((torch.from_numpy(o).reshape(-1,3).type(torch.float),\n",
    "                                   torch.from_numpy(d).reshape(-1,3).type(torch.float),\n",
    "                                   torch.from_numpy(target_px_values).reshape(-1,3).type(torch.float)), dim = 1),\n",
    "                        batch_size = batch_size, shuffle = True)\n",
    "\n",
    "test_o, test_d, test_target_px_values = get_rays('fox', mode = 'test')\n",
    "                            \n",
    "print(\"test_o.shape, test_d.shape, test_target_px_values.shape\",test_o.shape, test_d.shape, test_target_px_values.shape)\n",
    "\n",
    "# for 1st epoch, we just trian from the center of the aimge. \n",
    "dataloader_warmup = DataLoader(torch.cat((torch.from_numpy(o).reshape(90,400,400,3)[:,100:300, 100:300,:].reshape(-1,3).type(torch.float),\n",
    "                                          torch.from_numpy(d).reshape(90,400,400,3)[:,100:300, 100:300,:].reshape(-1,3).type(torch.float),\n",
    "                                          torch.from_numpy(target_px_values).reshape(90,400,400,3)[:,100:300, 100:300,:].reshape(-1,3).type(torch.float)),dim = 1),\n",
    "                                         batch_size = batch_size, shuffle = True)\n",
    "\n",
    "test_o, test_d, test_target_px_values  = get_rays('fox' , mode = 'test')"
   ]
  },
  {
   "cell_type": "code",
   "execution_count": 22,
   "id": "a11a842e-a087-4e52-a10c-caa72f16a1c5",
   "metadata": {
    "tags": []
   },
   "outputs": [
    {
     "name": "stdout",
     "output_type": "stream",
     "text": [
      "Total number of trainable parameters: 595844\n"
     ]
    }
   ],
   "source": [
    "def count_parameters(model):\n",
    "    return sum(p.numel() for p in model.parameters() if p.requires_grad)\n",
    "\n",
    "\n",
    "device = 'cuda'\n",
    "\n",
    "tn = 8\n",
    "tf = 12\n",
    "nb_epochs = 1\n",
    "lr = 1e-3\n",
    "gamma = .5\n",
    "nb_bins = 100\n",
    "\n",
    "model = Nerf().to(device)\n",
    "print(f\"Total number of trainable parameters: {count_parameters(model)}\")  # Print the total parameters\n",
    "\n",
    "\n",
    "\n"
   ]
  },
  {
   "cell_type": "code",
   "execution_count": null,
   "id": "f1e09ec1-9139-4db4-a3e5-287ef26a39b5",
   "metadata": {},
   "outputs": [],
   "source": [
    "optimizer = torch.optim.Adam(model.parameters(), lr = lr)\n",
    "scheduler = torch.optim.lr_scheduler.MultiStepLR(optimizer, milestones=[5,10], gamma = gamma)\n",
    "\n",
    "\n",
    "training_loss = training(model, optimizer, scheduler, tn, tf, nb_bins, 1, dataloader_warmup, device = device)\n",
    "plt.plot(training_loss)\n",
    "plt.show()\n",
    "training_loss = training(model, optimizer, scheduler, tn,tf, nb_bins, nb_epochs, dataloader, device = device)\n",
    "plt.plot(training_loss)\n",
    "plt.show()"
   ]
  },
  {
   "cell_type": "code",
   "execution_count": null,
   "id": "0f1f5eef-2c0d-443d-8b97-dbd79f7f30be",
   "metadata": {
    "tags": []
   },
   "outputs": [],
   "source": [
    "checkpoint_path = \"model_checkpoint_state_dict_nerf_v1.pth\"\n",
    "torch.save(model.state_dict(), checkpoint_path)\n",
    "print(f\"Model checkpoint saved to {checkpoint_path}\")\n",
    "torch.save(model, 'model_nerf')"
   ]
  },
  {
   "cell_type": "code",
   "execution_count": 12,
   "id": "3bf765b3-70de-4ccd-88df-a4e2d8dbd029",
   "metadata": {
    "tags": []
   },
   "outputs": [
    {
     "ename": "OutOfMemoryError",
     "evalue": "CUDA out of memory. Tried to allocate 7.51 GiB (GPU 0; 14.62 GiB total capacity; 7.88 GiB already allocated; 6.57 GiB free; 7.93 GiB reserved in total by PyTorch) If reserved memory is >> allocated memory try setting max_split_size_mb to avoid fragmentation.  See documentation for Memory Management and PYTORCH_CUDA_ALLOC_CONF",
     "output_type": "error",
     "traceback": [
      "\u001b[0;31m---------------------------------------------------------------------------\u001b[0m",
      "\u001b[0;31mOutOfMemoryError\u001b[0m                          Traceback (most recent call last)",
      "Cell \u001b[0;32mIn[12], line 1\u001b[0m\n\u001b[0;32m----> 1\u001b[0m img \u001b[38;5;241m=\u001b[39m \u001b[43mrendering\u001b[49m\u001b[43m(\u001b[49m\u001b[43mmodel\u001b[49m\u001b[43m,\u001b[49m\u001b[43m \u001b[49m\u001b[43mtorch\u001b[49m\u001b[38;5;241;43m.\u001b[39;49m\u001b[43mfrom_numpy\u001b[49m\u001b[43m(\u001b[49m\u001b[43mo\u001b[49m\u001b[43m[\u001b[49m\u001b[38;5;241;43m0\u001b[39;49m\u001b[43m]\u001b[49m\u001b[43m)\u001b[49m\u001b[38;5;241;43m.\u001b[39;49m\u001b[43mto\u001b[49m\u001b[43m(\u001b[49m\u001b[43mdevice\u001b[49m\u001b[43m)\u001b[49m\u001b[43m,\u001b[49m\u001b[43m \u001b[49m\u001b[43mtorch\u001b[49m\u001b[38;5;241;43m.\u001b[39;49m\u001b[43mfrom_numpy\u001b[49m\u001b[43m(\u001b[49m\u001b[43md\u001b[49m\u001b[43m[\u001b[49m\u001b[38;5;241;43m0\u001b[39;49m\u001b[43m]\u001b[49m\u001b[43m)\u001b[49m\u001b[38;5;241;43m.\u001b[39;49m\u001b[43mto\u001b[49m\u001b[43m(\u001b[49m\u001b[43mdevice\u001b[49m\u001b[43m)\u001b[49m\u001b[43m,\u001b[49m\n\u001b[1;32m      2\u001b[0m \u001b[43m                \u001b[49m\u001b[43mtn\u001b[49m\u001b[43m,\u001b[49m\u001b[43mtf\u001b[49m\u001b[43m,\u001b[49m\u001b[43mnb_bins\u001b[49m\u001b[38;5;241;43m=\u001b[39;49m\u001b[38;5;241;43m100\u001b[39;49m\u001b[43m,\u001b[49m\u001b[43m \u001b[49m\u001b[43mdevice\u001b[49m\u001b[43m \u001b[49m\u001b[38;5;241;43m=\u001b[39;49m\u001b[43m \u001b[49m\u001b[43mdevice\u001b[49m\u001b[43m)\u001b[49m\n\u001b[1;32m      4\u001b[0m plt\u001b[38;5;241m.\u001b[39mimshow(img\u001b[38;5;241m.\u001b[39mreshape(\u001b[38;5;241m400\u001b[39m,\u001b[38;5;241m400\u001b[39m,\u001b[38;5;241m3\u001b[39m)\u001b[38;5;241m.\u001b[39mdata\u001b[38;5;241m.\u001b[39mcpu()\u001b[38;5;241m.\u001b[39mnumpy())\n",
      "Cell \u001b[0;32mIn[6], line 19\u001b[0m, in \u001b[0;36mrendering\u001b[0;34m(model, rays_o, rays_d, tn, tf, nb_bins, device, white_bckgr)\u001b[0m\n\u001b[1;32m     15\u001b[0m delta \u001b[38;5;241m=\u001b[39m torch\u001b[38;5;241m.\u001b[39mcat((t[\u001b[38;5;241m1\u001b[39m:] \u001b[38;5;241m-\u001b[39m t[:\u001b[38;5;241m-\u001b[39m\u001b[38;5;241m1\u001b[39m], torch\u001b[38;5;241m.\u001b[39mtensor([\u001b[38;5;241m1e10\u001b[39m], device\u001b[38;5;241m=\u001b[39mdevice)))\n\u001b[1;32m     17\u001b[0m x \u001b[38;5;241m=\u001b[39m rays_o\u001b[38;5;241m.\u001b[39munsqueeze(\u001b[38;5;241m1\u001b[39m) \u001b[38;5;241m+\u001b[39m t\u001b[38;5;241m.\u001b[39munsqueeze(\u001b[38;5;241m0\u001b[39m)\u001b[38;5;241m.\u001b[39munsqueeze(\u001b[38;5;241m-\u001b[39m\u001b[38;5;241m1\u001b[39m) \u001b[38;5;241m*\u001b[39m rays_d\u001b[38;5;241m.\u001b[39munsqueeze(\u001b[38;5;241m1\u001b[39m) \u001b[38;5;66;03m# [nb_rays, nb_bins, 3]    \u001b[39;00m\n\u001b[0;32m---> 19\u001b[0m colors, density \u001b[38;5;241m=\u001b[39m \u001b[43mmodel\u001b[49m\u001b[38;5;241;43m.\u001b[39;49m\u001b[43mintersect\u001b[49m\u001b[43m(\u001b[49m\u001b[43mx\u001b[49m\u001b[38;5;241;43m.\u001b[39;49m\u001b[43mreshape\u001b[49m\u001b[43m(\u001b[49m\u001b[38;5;241;43m-\u001b[39;49m\u001b[38;5;241;43m1\u001b[39;49m\u001b[43m,\u001b[49m\u001b[43m \u001b[49m\u001b[38;5;241;43m3\u001b[39;49m\u001b[43m)\u001b[49m\u001b[43m,\u001b[49m\u001b[43m \u001b[49m\u001b[43mrays_d\u001b[49m\u001b[38;5;241;43m.\u001b[39;49m\u001b[43mexpand\u001b[49m\u001b[43m(\u001b[49m\u001b[43mx\u001b[49m\u001b[38;5;241;43m.\u001b[39;49m\u001b[43mshape\u001b[49m\u001b[43m[\u001b[49m\u001b[38;5;241;43m1\u001b[39;49m\u001b[43m]\u001b[49m\u001b[43m,\u001b[49m\u001b[43m \u001b[49m\u001b[43mx\u001b[49m\u001b[38;5;241;43m.\u001b[39;49m\u001b[43mshape\u001b[49m\u001b[43m[\u001b[49m\u001b[38;5;241;43m0\u001b[39;49m\u001b[43m]\u001b[49m\u001b[43m,\u001b[49m\u001b[43m \u001b[49m\u001b[38;5;241;43m3\u001b[39;49m\u001b[43m)\u001b[49m\u001b[38;5;241;43m.\u001b[39;49m\u001b[43mtranspose\u001b[49m\u001b[43m(\u001b[49m\u001b[38;5;241;43m0\u001b[39;49m\u001b[43m,\u001b[49m\u001b[43m \u001b[49m\u001b[38;5;241;43m1\u001b[39;49m\u001b[43m)\u001b[49m\u001b[38;5;241;43m.\u001b[39;49m\u001b[43mreshape\u001b[49m\u001b[43m(\u001b[49m\u001b[38;5;241;43m-\u001b[39;49m\u001b[38;5;241;43m1\u001b[39;49m\u001b[43m,\u001b[49m\u001b[43m \u001b[49m\u001b[38;5;241;43m3\u001b[39;49m\u001b[43m)\u001b[49m\u001b[43m)\u001b[49m\n\u001b[1;32m     21\u001b[0m colors \u001b[38;5;241m=\u001b[39m colors\u001b[38;5;241m.\u001b[39mreshape((x\u001b[38;5;241m.\u001b[39mshape[\u001b[38;5;241m0\u001b[39m], nb_bins, \u001b[38;5;241m3\u001b[39m)) \u001b[38;5;66;03m# [nb_rays, nb_bins, 3]\u001b[39;00m\n\u001b[1;32m     22\u001b[0m density \u001b[38;5;241m=\u001b[39m density\u001b[38;5;241m.\u001b[39mreshape((x\u001b[38;5;241m.\u001b[39mshape[\u001b[38;5;241m0\u001b[39m], nb_bins))\n",
      "Cell \u001b[0;32mIn[8], line 59\u001b[0m, in \u001b[0;36mNerf.intersect\u001b[0;34m(self, x, d)\u001b[0m\n\u001b[1;32m     58\u001b[0m \u001b[38;5;28;01mdef\u001b[39;00m \u001b[38;5;21mintersect\u001b[39m(\u001b[38;5;28mself\u001b[39m, x, d):\n\u001b[0;32m---> 59\u001b[0m     \u001b[38;5;28;01mreturn\u001b[39;00m \u001b[38;5;28;43mself\u001b[39;49m\u001b[38;5;241;43m.\u001b[39;49m\u001b[43mforward\u001b[49m\u001b[43m(\u001b[49m\u001b[43mx\u001b[49m\u001b[43m,\u001b[49m\u001b[43m \u001b[49m\u001b[43md\u001b[49m\u001b[43m)\u001b[49m\n",
      "Cell \u001b[0;32mIn[8], line 45\u001b[0m, in \u001b[0;36mNerf.forward\u001b[0;34m(self, xyz, d)\u001b[0m\n\u001b[1;32m     43\u001b[0m \u001b[38;5;28;01mdef\u001b[39;00m \u001b[38;5;21mforward\u001b[39m(\u001b[38;5;28mself\u001b[39m, xyz, d):\n\u001b[0;32m---> 45\u001b[0m     x_emb \u001b[38;5;241m=\u001b[39m \u001b[38;5;28;43mself\u001b[39;49m\u001b[38;5;241;43m.\u001b[39;49m\u001b[43mpositional_encoding\u001b[49m\u001b[43m(\u001b[49m\u001b[43mxyz\u001b[49m\u001b[43m,\u001b[49m\u001b[43m \u001b[49m\u001b[38;5;28;43mself\u001b[39;49m\u001b[38;5;241;43m.\u001b[39;49m\u001b[43mLpos\u001b[49m\u001b[43m)\u001b[49m \u001b[38;5;66;03m# [batch_size, Lpos*6+3]\u001b[39;00m\n\u001b[1;32m     46\u001b[0m     d_emb \u001b[38;5;241m=\u001b[39m \u001b[38;5;28mself\u001b[39m\u001b[38;5;241m.\u001b[39mpositional_encoding(d, \u001b[38;5;28mself\u001b[39m\u001b[38;5;241m.\u001b[39mLdir) \u001b[38;5;66;03m# [batch_size, Ldir*6=4+3]\u001b[39;00m\n\u001b[1;32m     48\u001b[0m     h \u001b[38;5;241m=\u001b[39m \u001b[38;5;28mself\u001b[39m\u001b[38;5;241m.\u001b[39mblock1(x_emb) \u001b[38;5;66;03m#[batch_size, hidden_dim]\u001b[39;00m\n",
      "Cell \u001b[0;32mIn[8], line 38\u001b[0m, in \u001b[0;36mNerf.positional_encoding\u001b[0;34m(self, x, L)\u001b[0m\n\u001b[1;32m     35\u001b[0m     out\u001b[38;5;241m.\u001b[39mappend(torch\u001b[38;5;241m.\u001b[39msin(\u001b[38;5;241m2\u001b[39m \u001b[38;5;241m*\u001b[39m\u001b[38;5;241m*\u001b[39mj \u001b[38;5;241m*\u001b[39mx))\n\u001b[1;32m     36\u001b[0m     out\u001b[38;5;241m.\u001b[39mappend(torch\u001b[38;5;241m.\u001b[39mcos(\u001b[38;5;241m2\u001b[39m \u001b[38;5;241m*\u001b[39m\u001b[38;5;241m*\u001b[39mj \u001b[38;5;241m*\u001b[39mx))\n\u001b[0;32m---> 38\u001b[0m \u001b[38;5;28;01mreturn\u001b[39;00m \u001b[43mtorch\u001b[49m\u001b[38;5;241;43m.\u001b[39;49m\u001b[43mcat\u001b[49m\u001b[43m(\u001b[49m\u001b[43mout\u001b[49m\u001b[43m,\u001b[49m\u001b[43m \u001b[49m\u001b[43mdim\u001b[49m\u001b[43m \u001b[49m\u001b[38;5;241;43m=\u001b[39;49m\u001b[43m \u001b[49m\u001b[38;5;241;43m1\u001b[39;49m\u001b[43m)\u001b[49m\n",
      "\u001b[0;31mOutOfMemoryError\u001b[0m: CUDA out of memory. Tried to allocate 7.51 GiB (GPU 0; 14.62 GiB total capacity; 7.88 GiB already allocated; 6.57 GiB free; 7.93 GiB reserved in total by PyTorch) If reserved memory is >> allocated memory try setting max_split_size_mb to avoid fragmentation.  See documentation for Memory Management and PYTORCH_CUDA_ALLOC_CONF"
     ]
    }
   ],
   "source": [
    "# img = rendering(model, torch.from_numpy(o[0]).to(device), torch.from_numpy(d[0]).to(device),\n",
    "#                 tn,tf,nb_bins=100, device = device)\n",
    "\n",
    "# plt.imshow(img.reshape(400,400,3).data.cpu().numpy())\n",
    "\n"
   ]
  },
  {
   "cell_type": "code",
   "execution_count": null,
   "id": "11d3fb33-cfca-42f3-be61-fcdd91555efe",
   "metadata": {
    "tags": []
   },
   "outputs": [],
   "source": []
  },
  {
   "cell_type": "code",
   "execution_count": null,
   "id": "b933955c-c09c-4cec-b82d-577139e962b1",
   "metadata": {},
   "outputs": [],
   "source": []
  },
  {
   "cell_type": "code",
   "execution_count": 24,
   "id": "aca0a1c6-b9bc-4b39-8f57-f61eb48c2eab",
   "metadata": {
    "tags": []
   },
   "outputs": [
    {
     "name": "stderr",
     "output_type": "stream",
     "text": [
      "/tmp/ipykernel_168301/1323450238.py:34: DeprecationWarning: Starting with ImageIO v3 the behavior of this function will switch to that of iio.v3.imread. To keep the current behavior (and make this warning disappear) use `import imageio.v2 as imageio` or call `imageio.v2.imread` directly.\n",
      "  img = imageio.imread(datapath + '/imgs/' + name.replace('txt', 'png')) / 255.\n"
     ]
    },
    {
     "name": "stdout",
     "output_type": "stream",
     "text": [
      "images[0].shape, len(images) (1, 400, 400, 4) 10\n",
      "images.shape after concatenation (10, 400, 400, 4)\n",
      "rays_o.shape (10, 160000, 3)\n",
      "rays_d.shape (10, 160000, 3)\n",
      "target_px_values.shape (10, 160000, 3)\n"
     ]
    }
   ],
   "source": [
    "test_o, test_d, test_target_px_values  = get_rays('fox' , mode = 'test')\n"
   ]
  },
  {
   "cell_type": "code",
   "execution_count": 25,
   "id": "bbd39667-f02d-4f94-90b8-9889575811bb",
   "metadata": {
    "tags": []
   },
   "outputs": [],
   "source": [
    "device = 'cuda'\n",
    "tn = 8\n",
    "tf = 12\n",
    "\n",
    "model = torch.load('model_nerf')"
   ]
  },
  {
   "cell_type": "code",
   "execution_count": 26,
   "id": "6335840a-01a2-41ba-b35d-2537c412e2a9",
   "metadata": {
    "tags": []
   },
   "outputs": [
    {
     "data": {
      "text/plain": [
       "Nerf(\n",
       "  (block1): Sequential(\n",
       "    (0): Linear(in_features=63, out_features=256, bias=True)\n",
       "    (1): ReLU()\n",
       "    (2): Linear(in_features=256, out_features=256, bias=True)\n",
       "    (3): ReLU()\n",
       "    (4): Linear(in_features=256, out_features=256, bias=True)\n",
       "    (5): ReLU()\n",
       "    (6): Linear(in_features=256, out_features=256, bias=True)\n",
       "    (7): ReLU()\n",
       "    (8): Linear(in_features=256, out_features=256, bias=True)\n",
       "    (9): ReLU()\n",
       "  )\n",
       "  (block2): Sequential(\n",
       "    (0): Linear(in_features=319, out_features=256, bias=True)\n",
       "    (1): ReLU()\n",
       "    (2): Linear(in_features=256, out_features=256, bias=True)\n",
       "    (3): ReLU()\n",
       "    (4): Linear(in_features=256, out_features=256, bias=True)\n",
       "    (5): ReLU()\n",
       "    (6): Linear(in_features=256, out_features=257, bias=True)\n",
       "  )\n",
       "  (rgb_head): Sequential(\n",
       "    (0): Linear(in_features=283, out_features=128, bias=True)\n",
       "    (1): ReLU()\n",
       "    (2): Linear(in_features=128, out_features=3, bias=True)\n",
       "    (3): Sigmoid()\n",
       "  )\n",
       ")"
      ]
     },
     "execution_count": 26,
     "metadata": {},
     "output_type": "execute_result"
    }
   ],
   "source": [
    "model"
   ]
  },
  {
   "cell_type": "code",
   "execution_count": null,
   "id": "c430f0ff-7deb-47eb-bbf8-961dfe54f4bf",
   "metadata": {},
   "outputs": [],
   "source": [
    "img = rendering(model, torch.from_numpy(o[2]).to(device), torch.from_numpy(d[2]).to(device),\n",
    "                tn,tf,nb_bins=100, device = device)\n",
    "\n",
    "plt.imshow(img.reshape(400,400,3).data.cpu().numpy())\n",
    "\n"
   ]
  },
  {
   "cell_type": "code",
   "execution_count": null,
   "id": "0be58322-8700-4a08-b3bf-899cb7a99b5e",
   "metadata": {},
   "outputs": [],
   "source": []
  },
  {
   "cell_type": "code",
   "execution_count": 35,
   "id": "2f64ffc0-df46-43ce-8809-bbc8b41ac2ed",
   "metadata": {
    "tags": []
   },
   "outputs": [],
   "source": [
    "def mse2psnr(mse):\n",
    "    return 20 * np.log10(1 / np.sqrt(mse))\n",
    "    \n",
    "\n",
    "\n",
    "# there are 16 million points. 400*400 grid, and 100 bins\n",
    "# 400*400*100 = 16000000 = 16 million\n",
    "# chunk ito 1.6 mil and 1.6 mil\n",
    "@torch.no_grad()\n",
    "def test(model, o, d, tn, tf, nb_bins=100, chunk_size=10, H=400, W=400, target=None):\n",
    "    \n",
    "    o = o.chunk(chunk_size)\n",
    "    d = d.chunk(chunk_size)\n",
    "    \n",
    "    image = []\n",
    "    for o_batch, d_batch in zip(o, d):\n",
    "        img_batch = rendering(model, o_batch, d_batch, tn, tf, nb_bins=nb_bins, device=o_batch.device)\n",
    "        image.append(img_batch) # N, 3\n",
    "    image = torch.cat(image)\n",
    "    image = image.reshape(H, W, 3).cpu().numpy()\n",
    "    \n",
    "    if target is not None:\n",
    "        mse = ((image - target)**2).mean()\n",
    "        psnr = mse2psnr(mse)\n",
    "    \n",
    "    if target is not None: \n",
    "        return image, mse, psnr\n",
    "    else:\n",
    "        return image"
   ]
  },
  {
   "cell_type": "code",
   "execution_count": 36,
   "id": "ead6609d-463e-4a5b-8c40-bf5f88d1f3a8",
   "metadata": {
    "tags": []
   },
   "outputs": [
    {
     "name": "stdout",
     "output_type": "stream",
     "text": [
      "32.589866974737724\n"
     ]
    }
   ],
   "source": [
    "img, mse, psnr = test(model, torch.from_numpy(test_o[0]).to(device).float(), torch.from_numpy(test_d[0]).to(device).float(),\n",
    "                tn, tf, nb_bins=100, chunk_size=10, target=test_target_px_values[0].reshape(400, 400, 3))\n",
    "\n",
    "print(psnr)"
   ]
  },
  {
   "cell_type": "code",
   "execution_count": 37,
   "id": "d0e84930-a816-4715-b853-29afb51d9880",
   "metadata": {
    "tags": []
   },
   "outputs": [
    {
     "name": "stderr",
     "output_type": "stream",
     "text": [
      "Clipping input data to the valid range for imshow with RGB data ([0..1] for floats or [0..255] for integers).\n"
     ]
    },
    {
     "data": {
      "text/plain": [
       "<matplotlib.image.AxesImage at 0x2aff1004fcd0>"
      ]
     },
     "execution_count": 37,
     "metadata": {},
     "output_type": "execute_result"
    },
    {
     "data": {
      "image/png": "[encoded data removed]",
      "text/plain": [
       "<Figure size 640x480 with 1 Axes>"
      ]
     },
     "metadata": {},
     "output_type": "display_data"
    }
   ],
   "source": [
    "plt.imshow(img)"
   ]
  },
  {
   "cell_type": "code",
   "execution_count": 38,
   "id": "fde6ee26-de9c-48e4-adb5-569151274c3e",
   "metadata": {
    "tags": []
   },
   "outputs": [
    {
     "data": {
      "text/plain": [
       "(tensor([[ 3.7897, -1.3840,  9.1500],\n",
       "         [ 3.7897, -1.3840,  9.1500],\n",
       "         [ 3.7897, -1.3840,  9.1500],\n",
       "         ...,\n",
       "         [ 3.7897, -1.3840,  9.1500],\n",
       "         [ 3.7897, -1.3840,  9.1500],\n",
       "         [ 3.7897, -1.3840,  9.1500]], dtype=torch.float64),\n",
       " tensor([[ 3.7897, -1.3840,  9.1500],\n",
       "         [ 3.7897, -1.3840,  9.1500],\n",
       "         [ 3.7897, -1.3840,  9.1500],\n",
       "         ...,\n",
       "         [ 3.7897, -1.3840,  9.1500],\n",
       "         [ 3.7897, -1.3840,  9.1500],\n",
       "         [ 3.7897, -1.3840,  9.1500]], dtype=torch.float64),\n",
       " tensor([[ 3.7897, -1.3840,  9.1500],\n",
       "         [ 3.7897, -1.3840,  9.1500],\n",
       "         [ 3.7897, -1.3840,  9.1500],\n",
       "         ...,\n",
       "         [ 3.7897, -1.3840,  9.1500],\n",
       "         [ 3.7897, -1.3840,  9.1500],\n",
       "         [ 3.7897, -1.3840,  9.1500]], dtype=torch.float64),\n",
       " tensor([[ 3.7897, -1.3840,  9.1500],\n",
       "         [ 3.7897, -1.3840,  9.1500],\n",
       "         [ 3.7897, -1.3840,  9.1500],\n",
       "         ...,\n",
       "         [ 3.7897, -1.3840,  9.1500],\n",
       "         [ 3.7897, -1.3840,  9.1500],\n",
       "         [ 3.7897, -1.3840,  9.1500]], dtype=torch.float64),\n",
       " tensor([[ 3.7897, -1.3840,  9.1500],\n",
       "         [ 3.7897, -1.3840,  9.1500],\n",
       "         [ 3.7897, -1.3840,  9.1500],\n",
       "         ...,\n",
       "         [ 3.7897, -1.3840,  9.1500],\n",
       "         [ 3.7897, -1.3840,  9.1500],\n",
       "         [ 3.7897, -1.3840,  9.1500]], dtype=torch.float64),\n",
       " tensor([[ 3.7897, -1.3840,  9.1500],\n",
       "         [ 3.7897, -1.3840,  9.1500],\n",
       "         [ 3.7897, -1.3840,  9.1500],\n",
       "         ...,\n",
       "         [ 3.7897, -1.3840,  9.1500],\n",
       "         [ 3.7897, -1.3840,  9.1500],\n",
       "         [ 3.7897, -1.3840,  9.1500]], dtype=torch.float64),\n",
       " tensor([[ 3.7897, -1.3840,  9.1500],\n",
       "         [ 3.7897, -1.3840,  9.1500],\n",
       "         [ 3.7897, -1.3840,  9.1500],\n",
       "         ...,\n",
       "         [ 3.7897, -1.3840,  9.1500],\n",
       "         [ 3.7897, -1.3840,  9.1500],\n",
       "         [ 3.7897, -1.3840,  9.1500]], dtype=torch.float64),\n",
       " tensor([[ 3.7897, -1.3840,  9.1500],\n",
       "         [ 3.7897, -1.3840,  9.1500],\n",
       "         [ 3.7897, -1.3840,  9.1500],\n",
       "         ...,\n",
       "         [ 3.7897, -1.3840,  9.1500],\n",
       "         [ 3.7897, -1.3840,  9.1500],\n",
       "         [ 3.7897, -1.3840,  9.1500]], dtype=torch.float64),\n",
       " tensor([[ 3.7897, -1.3840,  9.1500],\n",
       "         [ 3.7897, -1.3840,  9.1500],\n",
       "         [ 3.7897, -1.3840,  9.1500],\n",
       "         ...,\n",
       "         [ 3.7897, -1.3840,  9.1500],\n",
       "         [ 3.7897, -1.3840,  9.1500],\n",
       "         [ 3.7897, -1.3840,  9.1500]], dtype=torch.float64),\n",
       " tensor([[ 3.7897, -1.3840,  9.1500],\n",
       "         [ 3.7897, -1.3840,  9.1500],\n",
       "         [ 3.7897, -1.3840,  9.1500],\n",
       "         ...,\n",
       "         [ 3.7897, -1.3840,  9.1500],\n",
       "         [ 3.7897, -1.3840,  9.1500],\n",
       "         [ 3.7897, -1.3840,  9.1500]], dtype=torch.float64))"
      ]
     },
     "execution_count": 38,
     "metadata": {},
     "output_type": "execute_result"
    }
   ],
   "source": [
    "test_o[0].shape # (160000, 3)\n",
    "\n",
    "# these will be lists, which will have part of the data. \n",
    "torch.from_numpy(test_o[0]).chunk(10)\n"
   ]
  },
  {
   "cell_type": "code",
   "execution_count": 39,
   "id": "d0441e03-6bed-4fa8-a809-af4c464a43cf",
   "metadata": {
    "tags": []
   },
   "outputs": [
    {
     "name": "stderr",
     "output_type": "stream",
     "text": [
      "Clipping input data to the valid range for imshow with RGB data ([0..1] for floats or [0..255] for integers).\n"
     ]
    },
    {
     "data": {
      "text/plain": [
       "<matplotlib.image.AxesImage at 0x2aff100d32b0>"
      ]
     },
     "execution_count": 39,
     "metadata": {},
     "output_type": "execute_result"
    },
    {
     "data": {
      "image/png": "[encoded data removed]",
      "text/plain": [
       "<Figure size 640x480 with 1 Axes>"
      ]
     },
     "metadata": {},
     "output_type": "display_data"
    }
   ],
   "source": [
    "plt.imshow(img)  # this is the image geenrated by the model. we can compare it with the test image. "
   ]
  },
  {
   "cell_type": "code",
   "execution_count": 40,
   "id": "d980fa1d-3e53-456d-a78f-d01b20878da2",
   "metadata": {
    "tags": []
   },
   "outputs": [
    {
     "ename": "NameError",
     "evalue": "name 'text_target_px_values' is not defined",
     "output_type": "error",
     "traceback": [
      "\u001b[0;31m---------------------------------------------------------------------------\u001b[0m",
      "\u001b[0;31mNameError\u001b[0m                                 Traceback (most recent call last)",
      "Cell \u001b[0;32mIn[40], line 1\u001b[0m\n\u001b[0;32m----> 1\u001b[0m plt\u001b[38;5;241m.\u001b[39mimshow(\u001b[43mtext_target_px_values\u001b[49m[\u001b[38;5;241m0\u001b[39m]\u001b[38;5;241m.\u001b[39mreshape(\u001b[38;5;241m400\u001b[39m,\u001b[38;5;241m400\u001b[39m,\u001b[38;5;241m3\u001b[39m))\n",
      "\u001b[0;31mNameError\u001b[0m: name 'text_target_px_values' is not defined"
     ]
    }
   ],
   "source": [
    "plt.imshow(text_target_px_values[0].reshape(400,400,3))"
   ]
  },
  {
   "cell_type": "code",
   "execution_count": null,
   "id": "79cecc97-7cd9-4e7c-88db-652c8e955b60",
   "metadata": {
    "tags": []
   },
   "outputs": [],
   "source": [
    "plt.imshow(img-test_target_px_values[0].reshape(400,400,3))"
   ]
  },
  {
   "cell_type": "code",
   "execution_count": null,
   "id": "b8924d3b-5e3d-486e-86e5-df0b2e2cb5c2",
   "metadata": {
    "tags": []
   },
   "outputs": [],
   "source": [
    "## PSNR.. "
   ]
  },
  {
   "cell_type": "code",
   "execution_count": null,
   "id": "e419d0f4-94ba-4bd5-8087-3560e79dbc25",
   "metadata": {
    "tags": []
   },
   "outputs": [],
   "source": [
    "mse\n"
   ]
  },
  {
   "cell_type": "code",
   "execution_count": null,
   "id": "008d813b-28ce-4bd1-b21a-474c9b0fefe0",
   "metadata": {},
   "outputs": [],
   "source": [
    "mse2psnr(mse)  # 32.95 psnr is good. "
   ]
  }
 ],
 "metadata": {
  "kernelspec": {
   "display_name": "Python 3 (ipykernel)",
   "language": "python",
   "name": "python3"
  },
  "language_info": {
   "codemirror_mode": {
    "name": "ipython",
    "version": 3
   },
   "file_extension": ".py",
   "mimetype": "text/x-python",
   "name": "python",
   "nbconvert_exporter": "python",
   "pygments_lexer": "ipython3",
   "version": "3.9.16"
  }
 },
 "nbformat": 4,
 "nbformat_minor": 5
}
